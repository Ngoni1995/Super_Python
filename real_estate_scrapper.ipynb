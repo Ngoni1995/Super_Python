{
 "cells": [
  {
   "cell_type": "code",
   "execution_count": 15,
   "id": "64ad29a6",
   "metadata": {},
   "outputs": [
    {
     "name": "stdout",
     "output_type": "stream",
     "text": [
      "['Apartment Van Boshuizenstraat', '            1082 AP Amsterdam (Buitenveldert-Oost)        ', '                €1,500 per month            ', '43 m²']\n",
      "['Apartment Bilderdijkkade', '            1052 RV Amsterdam (Kinkerbuurt)        ', '                €2,350 per month            ', '75 m²']\n",
      "['Apartment Kerkstraat 417 B', '            1017 HX Amsterdam (Grachtengordel-Zuid)        ', '                €2,250 per month            ', '68 m²']\n",
      "['Apartment Dusartstraat', '            1072 HM Amsterdam (Nieuwe Pijp)        ', '                €3,750 per month            ', '145 m²']\n",
      "['Apartment Keizersgracht', '            1016 DV Amsterdam (Grachtengordel-West)        ', '                €2,250 per month            ', '80 m²']\n",
      "['House Troelstralaan', '            1067 MX Amsterdam (Geuzenveld)        ', '                €2,600 per month            ', '110 m²']\n",
      "['Apartment Olof Palmeplein', '            1025 WS Amsterdam (Buikslotermeer)        ', '                €1,350 per month            ', '60 m²']\n",
      "['Apartment Prinsengracht 696 2', '            1017 KZ Amsterdam (De Weteringschans)        ', '                €1,700 per month            ', '55 m²']\n",
      "['Apartment Maasstraat 147 2', '            1079 BE Amsterdam (Scheldebuurt)        ', '                €2,300 per month            ', '85 m²']\n",
      "['Apartment Leliegracht', '            1016 GT Amsterdam (Grachtengordel-West)        ', '                €1,650 per month            ', '72 m²']\n",
      "['Apartment Bloemgracht 53 B', '            1016 KE Amsterdam (Jordaan)        ', '                €1,884 per month            ', '60 m²']\n",
      "['Apartment Overtoom 209 B', '            1054 HT Amsterdam (Vondelbuurt)        ', '                €2,500 per month            ', '128 m²']\n",
      "['Apartment Johannes Verhulststraat 47 HS', '            1071 MS Amsterdam (Museumkwartier)        ', '                €9,700 per month            ', '250 m²']\n",
      "['Apartment Esther de Boer-van Rijkstraat 56 2', '            1065 GP Amsterdam (Slotervaart Zuid)        ', '                €2,500 per month            ', '95 m²']\n",
      "['Apartment Blasiusstraat', '            1091 CV Amsterdam (Weesperzijde)        ', '                €3,500 per month            ', '130 m²']\n",
      "['Apartment Pieter Aertszstraat 69 C', '            1073 SK Amsterdam (Nieuwe Pijp)        ', '                €1,750 per month            ', '58 m²']\n",
      "['Apartment Koningsstraat', '            1011 EW Amsterdam (Nieuwmarkt/Lastage)        ', '                €3,500 per month            ', '135 m²']\n",
      "['Apartment Brouwersgracht 206 D', '            1013 HD Amsterdam (Haarlemmerbuurt)        ', '                €2,250 per month            ', '84 m²']\n",
      "['Apartment Beemsterstraat 542 F2', '            1024 BV Amsterdam (Waterlandpleinbuurt)        ', '                €1,295 per month            ', '83 m²']\n",
      "['Apartment Jan Haringstraat 1', '            1056 XE Amsterdam (Landlust)        ', '                €1,950 per month            ', '75 m²']\n",
      "['Apartment Van Boshuizenstraat 23', '            1083 AP Amsterdam (Buitenveldert-Oost)        ', '                €2,100 per month            ', '78 m²']\n",
      "['Apartment Middenweg 142 huis', '            1097 BV Amsterdam (Frankendael)        ', '                €1,750 per month            ', '59 m²']\n",
      "['Apartment Schimmelstraat', '            1053 TG Amsterdam (Kinkerbuurt)        ', '                €1,825 per month            ', '42 m²']\n",
      "['Apartment Stadionkade', '            1077 VG Amsterdam (Apollobuurt)        ', '                €2,750 per month            ', '120 m²']\n",
      "['Apartment Valkenburgerstraat 136 E', '            1011 NA Amsterdam (Nieuwmarkt/Lastage)        ', '                €3,150 per month            ', '95 m²']\n",
      "['Apartment Burgemeester Hogguerstraat 1117', '            1064 EJ Amsterdam (Slotermeer-Zuidwest)        ', '                €1,850 per month            ', '80 m²']\n",
      "['Apartment Carolina MacGillavrylaan', '            1098 XB Amsterdam (Middenmeer)        ', '                €1,544 per month            ', '72 m²']\n",
      "['Apartment Maria Austriastraat 837', '            1087 GZ Amsterdam (IJburg West)        ', '                €2,000 per month            ', '137 m²']\n",
      "['Apartment Spuistraat', '            1012 VN Amsterdam (Burgwallen-Nieuwe Zijde)        ', '                €1,900 per month            ', '60 m²']\n",
      "['Apartment Jan van Duivenvoordestraat', '            1067 MT Amsterdam (Geuzenveld)        ', '                €2,100 per month            ', '90 m²']\n"
     ]
    }
   ],
   "source": [
    "from bs4 import BeautifulSoup\n",
    "import requests\n",
    "from csv import writer\n",
    "\n",
    "url= \"https://www.pararius.com/apartments/amsterdam?ac=1\"\n",
    "page = requests.get(url)\n",
    "\n",
    "soup = BeautifulSoup(page.content, 'html.parser')\n",
    "lists = soup.find_all('section', class_=\"listing-search-item\")\n",
    "\n",
    "with open('housing.csv', 'w', encoding='utf8', newline='') as f:\n",
    "    thewriter = writer(f)\n",
    "    header = ['Title', 'Location', 'Price', 'Area']\n",
    "    thewriter.writerow(header)\n",
    "\n",
    "    for list in lists:\n",
    "        title = list.find('a', class_=\"listing-search-item__link--title\").text.replace('\\n', '')\n",
    "        location = list.find('div', class_=\"listing-search-item__location\").text.replace('\\n', '')\n",
    "        price = list.find('div', class_=\"listing-search-item__price\").text.replace('\\n', '')\n",
    "        area = list.find('li', class_=\"illustrated-features__item illustrated-features__item--surface-area\").text.replace('\\n', '')\n",
    "        #illustrated-features .illustrated-features__item\n",
    "        \n",
    "        info = [title, location, price,area]\n",
    "        thewriter.writerow(info)\n",
    "        print(info)\n"
   ]
  },
  {
   "cell_type": "code",
   "execution_count": null,
   "id": "8ac6de2b",
   "metadata": {},
   "outputs": [],
   "source": []
  },
  {
   "cell_type": "code",
   "execution_count": null,
   "id": "d70bea2d",
   "metadata": {},
   "outputs": [],
   "source": []
  }
 ],
 "metadata": {
  "kernelspec": {
   "display_name": "Python 3 (ipykernel)",
   "language": "python",
   "name": "python3"
  },
  "language_info": {
   "codemirror_mode": {
    "name": "ipython",
    "version": 3
   },
   "file_extension": ".py",
   "mimetype": "text/x-python",
   "name": "python",
   "nbconvert_exporter": "python",
   "pygments_lexer": "ipython3",
   "version": "3.9.12"
  }
 },
 "nbformat": 4,
 "nbformat_minor": 5
}
